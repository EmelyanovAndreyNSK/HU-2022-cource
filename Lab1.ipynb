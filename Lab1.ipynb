{
 "cells": [
  {
   "cell_type": "code",
   "execution_count": 1,
   "id": "e67a3710",
   "metadata": {},
   "outputs": [],
   "source": [
    "import os\n",
    "import argparse\n",
    "from mindspore import context\n",
    "from mindspore.train.callback import LossMonitor, SummaryCollector \n",
    "\n",
    "parser = argparse.ArgumentParser(description='MindSpore LeNet Example')\n",
    "parser.add_argument('--device_target', type=str, default=\"CPU\", choices=['Ascend', 'GPU', 'CPU'])\n",
    "\n",
    "args = parser.parse_known_args()[0]\n",
    "context.set_context(mode=context.GRAPH_MODE, device_target=args.device_target)\n"
   ]
  },
  {
   "cell_type": "code",
   "execution_count": 2,
   "id": "4712c189",
   "metadata": {},
   "outputs": [],
   "source": [
    "import os\n",
    "import requests\n",
    "\n",
    "def download_dataset(dataset_url, path):\n",
    "    filename = dataset_url.split(\"/\")[-1]\n",
    "    save_path = os.path.join(path, filename)\n",
    "    if os.path.exists(save_path):\n",
    "        return\n",
    "    if not os.path.exists(path):\n",
    "        os.makedirs(path)\n",
    "    res = requests.get(dataset_url, stream=True, verify=False)\n",
    "    with open(save_path, \"wb\") as f:\n",
    "        for chunk in res.iter_content(chunk_size=512):\n",
    "            if chunk:\n",
    "                f.write(chunk)\n",
    "\n",
    "train_path = \"datasets/MNIST_Data/train\"\n",
    "test_path = \"datasets/MNIST_Data/test\"\n",
    "\n",
    "download_dataset(\"https://mindspore-website.obs.myhuaweicloud.com/notebook/datasets/mnist/train-labels-idx1-ubyte\", train_path)\n",
    "download_dataset(\"https://mindspore-website.obs.myhuaweicloud.com/notebook/datasets/mnist/train-images-idx3-ubyte\", train_path)\n",
    "download_dataset(\"https://mindspore-website.obs.myhuaweicloud.com/notebook/datasets/mnist/t10k-labels-idx1-ubyte\", test_path)\n",
    "download_dataset(\"https://mindspore-website.obs.myhuaweicloud.com/notebook/datasets/mnist/t10k-images-idx3-ubyte\", test_path)\n"
   ]
  },
  {
   "cell_type": "code",
   "execution_count": 3,
   "id": "33062058",
   "metadata": {},
   "outputs": [],
   "source": [
    "import mindspore.dataset as ds\n",
    "import mindspore.dataset.transforms.c_transforms as C\n",
    "import mindspore.dataset.vision.c_transforms as CV\n",
    "from mindspore.dataset.vision import Inter\n",
    "from mindspore import dtype as mstype\n"
   ]
  },
  {
   "cell_type": "code",
   "execution_count": 4,
   "id": "8991dcb2",
   "metadata": {},
   "outputs": [],
   "source": [
    "def create_dataset(data_path, batch_size=32, repeat_size=1,\n",
    "                   num_parallel_workers=1):\n",
    "    # Define the dataset.\n",
    "    mnist_ds = ds.MnistDataset(data_path)\n",
    "    resize_height, resize_width = 32, 32\n",
    "    rescale = 1.0 / 255.0\n",
    "    shift = 0.0\n",
    "    rescale_nml = 1 / 0.3081\n",
    "    shift_nml = -1 * 0.1307 / 0.3081\n",
    "\n",
    "    # Define the mapping to be operated.\n",
    "    resize_op = CV.Resize((resize_height, resize_width), interpolation=Inter.LINEAR)\n",
    "    rescale_nml_op = CV.Rescale(rescale_nml, shift_nml)\n",
    "    rescale_op = CV.Rescale(rescale, shift)\n",
    "    hwc2chw_op = CV.HWC2CHW()\n",
    "    type_cast_op = C.TypeCast(mstype.int32)\n",
    "\n",
    "    # Use the map function to apply data operations to the dataset.\n",
    "    mnist_ds = mnist_ds.map(operations=type_cast_op, input_columns=\"label\", num_parallel_workers=num_parallel_workers)\n",
    "    mnist_ds = mnist_ds.map(operations=[resize_op, rescale_op, rescale_nml_op, hwc2chw_op], input_columns=\"image\", num_parallel_workers=num_parallel_workers)\n",
    "\n",
    "\n",
    "    # Perform shuffle, batch and repeat operations.\n",
    "    buffer_size = 10000\n",
    "    mnist_ds = mnist_ds.shuffle(buffer_size=buffer_size)\n",
    "    mnist_ds = mnist_ds.batch(batch_size, drop_remainder=True)\n",
    "    mnist_ds = mnist_ds.repeat(count=repeat_size)\n",
    "\n",
    "    return mnist_ds\n"
   ]
  },
  {
   "cell_type": "code",
   "execution_count": 5,
   "id": "81ab4dc5",
   "metadata": {},
   "outputs": [],
   "source": [
    "import mindspore.nn as nn\n",
    "from mindspore.common.initializer import Normal\n",
    "from mindspore.ops import ImageSummary, TensorSummary\n",
    "\n",
    "class LeNet5(nn.Cell):\n",
    "    \"\"\"\n",
    "    Lenet network structure\n",
    "    \"\"\"\n",
    "    def __init__(self, num_class=10, num_channel=1):\n",
    "        super(LeNet5, self).__init__()\n",
    "        # Define the required operation.\n",
    "        self.conv1 = nn.Conv2d(num_channel, 6, 5, pad_mode='valid')\n",
    "        self.conv2 = nn.Conv2d(6, 16, 5, pad_mode='valid')\n",
    "        self.fc1 = nn.Dense(16 * 5 * 5, 120, weight_init=Normal(0.02))\n",
    "        self.fc2 = nn.Dense(120, 84, weight_init=Normal(0.02))\n",
    "        self.fc3 = nn.Dense(84, num_class, weight_init=Normal(0.02))\n",
    "        self.relu = nn.ReLU()\n",
    "        self.max_pool2d = nn.MaxPool2d(kernel_size=2, stride=2)\n",
    "        self.flatten = nn.Flatten()\n",
    "        self.image_summary = ImageSummary()\n",
    "        self.tensor_summary = TensorSummary()\n",
    "\n",
    "    def construct(self, x):\n",
    "        # Use the defined operation to construct a forward network.\n",
    "        self.image_summary(\"image\", x)\n",
    "        x = self.conv1(x)\n",
    "        x = self.relu(x)\n",
    "        x = self.max_pool2d(x)\n",
    "        x = self.conv2(x)\n",
    "        x = self.relu(x)\n",
    "        x = self.max_pool2d(x)\n",
    "        x = self.flatten(x)\n",
    "        x = self.fc1(x)\n",
    "        x = self.relu(x)\n",
    "        x = self.fc2(x)\n",
    "        x = self.relu(x)\n",
    "        x = self.fc3(x)\n",
    "        \n",
    "        self.tensor_summary(\"tensor\", x)\n",
    "        return x\n",
    "\n",
    "# Instantiate the network.\n",
    "net = LeNet5()"
   ]
  },
  {
   "cell_type": "code",
   "execution_count": 6,
   "id": "d2ceaae3",
   "metadata": {},
   "outputs": [],
   "source": [
    "# Define the loss function.\n",
    "net_loss = nn.SoftmaxCrossEntropyWithLogits(sparse=True, reduction='mean')\n",
    "\n",
    "# Define the optimizer.\n",
    "net_opt = nn.Momentum(net.trainable_params(), learning_rate=0.01, momentum=0.9)\n"
   ]
  },
  {
   "cell_type": "code",
   "execution_count": 7,
   "id": "3a1ffc84",
   "metadata": {},
   "outputs": [],
   "source": [
    "from mindspore.train.callback import ModelCheckpoint, CheckpointConfig\n",
    "# Set model saving parameters.\n",
    "config_ck = CheckpointConfig(save_checkpoint_steps=1875, keep_checkpoint_max=10)\n",
    "# Use model saving parameters.\n",
    "ckpoint = ModelCheckpoint(prefix=\"checkpoint_lenet\", config=config_ck)\n"
   ]
  },
  {
   "cell_type": "code",
   "execution_count": 8,
   "id": "03703e4a",
   "metadata": {},
   "outputs": [],
   "source": [
    "# Import the library required for model training.\n",
    "from mindspore.nn import Accuracy\n",
    "from mindspore.train.callback import LossMonitor\n",
    "from mindspore import Model\n"
   ]
  },
  {
   "cell_type": "code",
   "execution_count": 9,
   "id": "20bf6fc4",
   "metadata": {},
   "outputs": [],
   "source": [
    "def train_net(model, epoch_size, data_path, repeat_size, ckpoint_cb, sink_mode):\n",
    "    \"\"\"Define a training method.\"\"\"\n",
    "    # Load the training dataset.\n",
    "    \n",
    "    summary_collector = SummaryCollector(summary_dir = \"./summary_dir\", collect_freq = 1, collect_tensor_freq = 200)\n",
    "    ds_train = create_dataset(os.path.join(data_path, \"train\"), 32, repeat_size)\n",
    "    model.train(epoch_size, ds_train, callbacks=[ckpoint_cb, LossMonitor(125), summary_collector], dataset_sink_mode=sink_mode)"
   ]
  },
  {
   "cell_type": "code",
   "execution_count": 10,
   "id": "be1a7b6b",
   "metadata": {},
   "outputs": [],
   "source": [
    "def test_net(model, data_path):\n",
    "    \"\"\"Define a validation method.\"\"\"\n",
    "    ds_eval = create_dataset(os.path.join(data_path, \"test\"))\n",
    "    acc = model.eval(ds_eval, dataset_sink_mode=False)\n",
    "    print(\"{}\".format(acc))"
   ]
  },
  {
   "cell_type": "code",
   "execution_count": 11,
   "id": "9c02bb4a",
   "metadata": {},
   "outputs": [
    {
     "name": "stderr",
     "output_type": "stream",
     "text": [
      "[WARNING] ME(4707:140579900187264,MainProcess):2022-05-09-15:42:55.120.553 [mindspore/profiler/profiling.py:916] The target dir already exists. There may be some old profiling data, and they will be rewritten in the end.\n",
      "[WARNING] DEBUG(4707,7fdb4f036280,python):2022-05-09-15:42:56.393.956 [mindspore/ccsrc/debug/debugger/debugger.cc:95] Debugger] Not enabling debugger. Debugger does not support CPU.\n"
     ]
    },
    {
     "name": "stdout",
     "output_type": "stream",
     "text": [
      "epoch: 1 step: 125, loss is 2.3118984699249268\n",
      "epoch: 1 step: 250, loss is 2.2771129608154297\n",
      "epoch: 1 step: 375, loss is 2.296725273132324\n",
      "epoch: 1 step: 500, loss is 2.307905435562134\n",
      "epoch: 1 step: 625, loss is 2.2862255573272705\n",
      "epoch: 1 step: 750, loss is 2.2942287921905518\n",
      "epoch: 1 step: 875, loss is 2.276190757751465\n",
      "epoch: 1 step: 1000, loss is 0.33888059854507446\n",
      "epoch: 1 step: 1125, loss is 0.11961334943771362\n",
      "epoch: 1 step: 1250, loss is 0.36674317717552185\n",
      "epoch: 1 step: 1375, loss is 0.11643192917108536\n",
      "epoch: 1 step: 1500, loss is 0.0693666860461235\n",
      "epoch: 1 step: 1625, loss is 0.08808504790067673\n",
      "epoch: 1 step: 1750, loss is 0.05339649319648743\n",
      "epoch: 1 step: 1875, loss is 0.1992499977350235\n"
     ]
    },
    {
     "name": "stderr",
     "output_type": "stream",
     "text": [
      "[ERROR] ME(4707:140579900187264,MainProcess):2022-05-09-15:43:40.440.615 [mindspore/train/callback/_summary_collector.py:592] Write meta data /home/andrey/project/Lab1/summary_dir/ckpt_dir/train_metadata.json failed, detail: [Errno 13] Permission denied: '/home/andrey/project/Lab1/summary_dir/ckpt_dir/train_metadata.json'\n",
      "[WARNING] MD(4707,7fdb4f036280,python):2022-05-09-15:43:48.592.172 [mindspore/ccsrc/minddata/dataset/engine/consumers/tree_consumer.cc:68] RegisterProfilingManager] Dataset Profiling is already enabled for a different data pipeline.\n"
     ]
    },
    {
     "name": "stdout",
     "output_type": "stream",
     "text": [
      "{'Accuracy': 0.9622395833333334}\n"
     ]
    }
   ],
   "source": [
    "from mindspore.profiler import Profiler\n",
    "profiler = Profiler(output_path = './summary_dir/profiler_data')\n",
    "\n",
    "train_epoch = 1\n",
    "mnist_path = \"./datasets/MNIST_Data\"\n",
    "dataset_size = 1\n",
    "model = Model(net, net_loss, net_opt, metrics={\"Accuracy\": Accuracy()})\n",
    "train_net(model, train_epoch, mnist_path, dataset_size, ckpoint, False)\n",
    "profiler.analyse()\n",
    "test_net(model, mnist_path)"
   ]
  },
  {
   "cell_type": "code",
   "execution_count": 12,
   "id": "b77232c0",
   "metadata": {},
   "outputs": [
    {
     "name": "stdout",
     "output_type": "stream",
     "text": [
      "Reusing MindInsight on port 8080. (pid 4401, Use \"mindinsight stop --port 8080\" to stop it.) Web address: http://127.0.0.1:8080\r\n"
     ]
    }
   ],
   "source": [
    "!mindinsight start --summary-base-dir ./summary_dir\n"
   ]
  },
  {
   "cell_type": "code",
   "execution_count": 13,
   "id": "fe2358a6",
   "metadata": {},
   "outputs": [
    {
     "name": "stdout",
     "output_type": "stream",
     "text": [
      "Stop mindinsight service successfully\r\n"
     ]
    }
   ],
   "source": [
    "!mindinsight stop --port 8080"
   ]
  },
  {
   "cell_type": "code",
   "execution_count": 14,
   "id": "8656075e",
   "metadata": {},
   "outputs": [
    {
     "name": "stderr",
     "output_type": "stream",
     "text": [
      "[WARNING] ME(4707:140579900187264,MainProcess):2022-05-09-15:43:54.457.613 [mindspore/common/parameter.py:337] The parameter definition is deprecated.\n",
      "Please set a unique name for the parameter 'Parameter (name=Parameter, shape=(6, 1, 5, 5), dtype=Float32, requires_grad=True)'.\n",
      "[WARNING] ME(4707:140579900187264,MainProcess):2022-05-09-15:43:54.459.496 [mindspore/common/parameter.py:337] The parameter definition is deprecated.\n",
      "Please set a unique name for the parameter 'Parameter (name=Parameter, shape=(16, 6, 5, 5), dtype=Float32, requires_grad=True)'.\n",
      "[WARNING] ME(4707:140579900187264,MainProcess):2022-05-09-15:43:54.462.173 [mindspore/common/parameter.py:337] The parameter definition is deprecated.\n",
      "Please set a unique name for the parameter 'Parameter (name=Parameter, shape=(120, 400), dtype=Float32, requires_grad=True)'.\n",
      "[WARNING] ME(4707:140579900187264,MainProcess):2022-05-09-15:43:54.464.816 [mindspore/common/parameter.py:337] The parameter definition is deprecated.\n",
      "Please set a unique name for the parameter 'Parameter (name=Parameter, shape=(120,), dtype=Float32, requires_grad=True)'.\n",
      "[WARNING] ME(4707:140579900187264,MainProcess):2022-05-09-15:43:54.467.258 [mindspore/common/parameter.py:337] The parameter definition is deprecated.\n",
      "Please set a unique name for the parameter 'Parameter (name=Parameter, shape=(84, 120), dtype=Float32, requires_grad=True)'.\n",
      "[WARNING] ME(4707:140579900187264,MainProcess):2022-05-09-15:43:54.468.988 [mindspore/common/parameter.py:337] The parameter definition is deprecated.\n",
      "Please set a unique name for the parameter 'Parameter (name=Parameter, shape=(84,), dtype=Float32, requires_grad=True)'.\n",
      "[WARNING] ME(4707:140579900187264,MainProcess):2022-05-09-15:43:54.471.558 [mindspore/common/parameter.py:337] The parameter definition is deprecated.\n",
      "Please set a unique name for the parameter 'Parameter (name=Parameter, shape=(10, 84), dtype=Float32, requires_grad=True)'.\n",
      "[WARNING] ME(4707:140579900187264,MainProcess):2022-05-09-15:43:54.473.799 [mindspore/common/parameter.py:337] The parameter definition is deprecated.\n",
      "Please set a unique name for the parameter 'Parameter (name=Parameter, shape=(10,), dtype=Float32, requires_grad=True)'.\n"
     ]
    },
    {
     "data": {
      "text/plain": [
       "[]"
      ]
     },
     "execution_count": 14,
     "metadata": {},
     "output_type": "execute_result"
    }
   ],
   "source": [
    "from mindspore import load_checkpoint, load_param_into_net\n",
    "# Load the saved model for testing.\n",
    "param_dict = load_checkpoint(\"checkpoint_lenet-1_1875.ckpt\")\n",
    "# Load parameters to the network.\n",
    "load_param_into_net(net, param_dict)"
   ]
  },
  {
   "cell_type": "code",
   "execution_count": 15,
   "id": "18a2fe7b",
   "metadata": {},
   "outputs": [
    {
     "name": "stderr",
     "output_type": "stream",
     "text": [
      "[WARNING] MD(4707,7fdb4f036280,python):2022-05-09-15:43:54.540.671 [mindspore/ccsrc/minddata/dataset/engine/consumers/tree_consumer.cc:68] RegisterProfilingManager] Dataset Profiling is already enabled for a different data pipeline.\n"
     ]
    },
    {
     "name": "stdout",
     "output_type": "stream",
     "text": [
      "Predicted: \"2\", Actual: \"2\"\n"
     ]
    }
   ],
   "source": [
    "import numpy as np\n",
    "from mindspore import Tensor\n",
    "\n",
    "# Define a test dataset. If batch_size is set to 1, an image is obtained.\n",
    "ds_test = create_dataset(os.path.join(mnist_path, \"test\"), batch_size=1).create_dict_iterator()\n",
    "data = next(ds_test)\n",
    "\n",
    "# `images` indicates the test image, and `labels` indicates the actual classification of the test image.\n",
    "images = data[\"image\"].asnumpy()\n",
    "labels = data[\"label\"].asnumpy()\n",
    "\n",
    "# Use the model.predict function to predict the classification of the image.\n",
    "output = model.predict(Tensor(data['image']))\n",
    "predicted = np.argmax(output.asnumpy(), axis=1)\n",
    "\n",
    "# Output the predicted classification and the actual classification.\n",
    "print(f'Predicted: \"{predicted[0]}\", Actual: \"{labels[0]}\"')\n"
   ]
  }
 ],
 "metadata": {
  "kernelspec": {
   "display_name": "Python 3 (ipykernel)",
   "language": "python",
   "name": "python3"
  },
  "language_info": {
   "codemirror_mode": {
    "name": "ipython",
    "version": 3
   },
   "file_extension": ".py",
   "mimetype": "text/x-python",
   "name": "python",
   "nbconvert_exporter": "python",
   "pygments_lexer": "ipython3",
   "version": "3.9.0"
  }
 },
 "nbformat": 4,
 "nbformat_minor": 5
}
